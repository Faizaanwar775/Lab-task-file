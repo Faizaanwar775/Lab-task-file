{
 "cells": [
  {
   "cell_type": "code",
   "execution_count": 2,
   "metadata": {},
   "outputs": [],
   "source": [
    "import pandas as pd\n",
    "import numpy as np\n",
    "import pickle\n",
    "from sklearn.svm import SVC\n",
    "from sklearn.metrics import accuracy_score\n",
    "from sklearn.preprocessing import LabelEncoder\n",
    "from sklearn.model_selection import train_test_split\n"
   ]
  },
  {
   "cell_type": "code",
   "execution_count": 3,
   "metadata": {},
   "outputs": [],
   "source": [
    "def load_data(file_path):\n",
    "    return pd.read_csv(file_path)\n",
    "\n",
    "df = load_data(\"data.csv\") \n"
   ]
  },
  {
   "cell_type": "code",
   "execution_count": 4,
   "metadata": {},
   "outputs": [
    {
     "name": "stdout",
     "output_type": "stream",
     "text": [
      "Number of Rows: 4600 \n",
      "Number of Columns: 18\n",
      "-- Data Overview --\n"
     ]
    }
   ],
   "source": [
    "print(f\"Number of Rows: {df.shape[0]} \\nNumber of Columns: {df.shape[1]}\")\n",
    "print(\"-- Data Overview --\")\n",
    "\n"
   ]
  },
  {
   "cell_type": "code",
   "execution_count": 5,
   "metadata": {},
   "outputs": [
    {
     "name": "stdout",
     "output_type": "stream",
     "text": [
      "            date      price  bedrooms  bathrooms  sqft_living  sqft_lot  \\\n",
      "0  5/2/2014 0:00   313000.0       3.0        1.5       1340.0    7912.0   \n",
      "1  5/2/2014 0:00  2384000.0       5.0        2.5       3650.0    9050.0   \n",
      "\n",
      "   floors  waterfront  view  condition  sqft_above  sqft_basement  yr_built  \\\n",
      "0     1.5         0.0   0.0          3      1340.0            0.0    1955.0   \n",
      "1     2.0         0.0   4.0          5      3370.0          280.0    1921.0   \n",
      "\n",
      "   yr_renovated                street       city  statezip country  \n",
      "0          2005  18810 Densmore Ave N  Shoreline  WA 98133     USA  \n",
      "1             0       709 W Blaine St    Seattle  WA 98119     USA  \n"
     ]
    }
   ],
   "source": [
    "print(df.head(2))"
   ]
  },
  {
   "cell_type": "code",
   "execution_count": 6,
   "metadata": {},
   "outputs": [
    {
     "name": "stdout",
     "output_type": "stream",
     "text": [
      "                date     price  bedrooms  bathrooms  sqft_living  sqft_lot  \\\n",
      "4598  7/10/2014 0:00  203400.0       4.0        2.0       2090.0    6630.0   \n",
      "4599  7/10/2014 0:00  220600.0       3.0        2.5       1490.0    8102.0   \n",
      "\n",
      "      floors  waterfront  view  condition  sqft_above  sqft_basement  \\\n",
      "4598     1.0         0.0   0.0          3      1070.0         1020.0   \n",
      "4599     2.0         0.0   0.0          4      1490.0            0.0   \n",
      "\n",
      "      yr_built  yr_renovated             street       city  statezip country  \n",
      "4598    1974.0             0  5148 S Creston St    Seattle  WA 98178     USA  \n",
      "4599    1990.0             0  18717 SE 258th St  Covington  WA 98042     USA  \n"
     ]
    }
   ],
   "source": [
    "print(df.tail(2))"
   ]
  },
  {
   "cell_type": "code",
   "execution_count": 7,
   "metadata": {},
   "outputs": [
    {
     "name": "stdout",
     "output_type": "stream",
     "text": [
      "              price     bedrooms    bathrooms   sqft_living      sqft_lot  \\\n",
      "count  4.597000e+03  4595.000000  4598.000000   4598.000000  4.598000e+03   \n",
      "mean   5.521190e+05     3.401088     2.160668   2139.498913  1.485607e+04   \n",
      "std    5.639834e+05     0.908983     0.783920    963.387024  3.589177e+04   \n",
      "min    0.000000e+00     0.000000     0.000000    370.000000  6.380000e+02   \n",
      "25%    3.238333e+05     3.000000     1.750000   1460.000000  5.001000e+03   \n",
      "50%    4.610000e+05     3.000000     2.250000   1980.000000  7.683000e+03   \n",
      "75%    6.550000e+05     4.000000     2.500000   2620.000000  1.100375e+04   \n",
      "max    2.659000e+07     9.000000     8.000000  13540.000000  1.074218e+06   \n",
      "\n",
      "            floors   waterfront         view    condition   sqft_above  \\\n",
      "count  4598.000000  4595.000000  4598.000000  4600.000000  4597.000000   \n",
      "mean      1.511853     0.007182     0.240757     3.451739  1827.509463   \n",
      "std       0.537905     0.084449     0.778558     0.677230   862.138540   \n",
      "min       1.000000     0.000000     0.000000     1.000000   370.000000   \n",
      "25%       1.000000     0.000000     0.000000     3.000000  1190.000000   \n",
      "50%       1.500000     0.000000     0.000000     3.000000  1590.000000   \n",
      "75%       2.000000     0.000000     0.000000     4.000000  2300.000000   \n",
      "max       3.500000     1.000000     4.000000     5.000000  9410.000000   \n",
      "\n",
      "       sqft_basement     yr_built  yr_renovated  \n",
      "count    4597.000000  4594.000000   4600.000000  \n",
      "mean      312.122036  1970.799086    808.608261  \n",
      "std       464.228562    29.740666    979.414536  \n",
      "min         0.000000  1900.000000      0.000000  \n",
      "25%         0.000000  1951.000000      0.000000  \n",
      "50%         0.000000  1976.000000      0.000000  \n",
      "75%       610.000000  1997.000000   1999.000000  \n",
      "max      4820.000000  2014.000000   2014.000000  \n"
     ]
    }
   ],
   "source": [
    "print(df.describe())"
   ]
  },
  {
   "cell_type": "code",
   "execution_count": 8,
   "metadata": {},
   "outputs": [
    {
     "name": "stdout",
     "output_type": "stream",
     "text": [
      "<class 'pandas.core.frame.DataFrame'>\n",
      "RangeIndex: 4600 entries, 0 to 4599\n",
      "Data columns (total 18 columns):\n",
      " #   Column         Non-Null Count  Dtype  \n",
      "---  ------         --------------  -----  \n",
      " 0   date           4600 non-null   object \n",
      " 1   price          4597 non-null   float64\n",
      " 2   bedrooms       4595 non-null   float64\n",
      " 3   bathrooms      4598 non-null   float64\n",
      " 4   sqft_living    4598 non-null   float64\n",
      " 5   sqft_lot       4598 non-null   float64\n",
      " 6   floors         4598 non-null   float64\n",
      " 7   waterfront     4595 non-null   float64\n",
      " 8   view           4598 non-null   float64\n",
      " 9   condition      4600 non-null   int64  \n",
      " 10  sqft_above     4597 non-null   float64\n",
      " 11  sqft_basement  4597 non-null   float64\n",
      " 12  yr_built       4594 non-null   float64\n",
      " 13  yr_renovated   4600 non-null   int64  \n",
      " 14  street         4597 non-null   object \n",
      " 15  city           4596 non-null   object \n",
      " 16  statezip       4597 non-null   object \n",
      " 17  country        4594 non-null   object \n",
      "dtypes: float64(11), int64(2), object(5)\n",
      "memory usage: 647.0+ KB\n",
      "None\n"
     ]
    }
   ],
   "source": [
    "print(df.info())"
   ]
  },
  {
   "cell_type": "code",
   "execution_count": null,
   "metadata": {},
   "outputs": [],
   "source": [
    "def fill_na_mode(columns):\n",
    "    for col in columns:\n",
    "        df[col] = df[col].fillna(df[col].mode()[0]) \n",
    "\n",
    "categorical_columns = ['street', 'city', 'statezip', 'country']\n",
    "fill_na_mode(categorical_columns)"
   ]
  },
  {
   "cell_type": "code",
   "execution_count": 10,
   "metadata": {},
   "outputs": [],
   "source": [
    "def fill_na_mean(columns):\n",
    "    for col in columns:\n",
    "        df[col] = df[col].fillna(df[col].mean())  \n",
    "\n",
    "numerical_columns = ['bedrooms', 'bathrooms', 'floors', 'waterfront', 'view', 'yr_built']\n",
    "fill_na_mode(numerical_columns)"
   ]
  },
  {
   "cell_type": "code",
   "execution_count": 11,
   "metadata": {},
   "outputs": [],
   "source": [
    "float_columns = ['price', 'sqft_living', 'sqft_lot', 'sqft_above', 'sqft_basement']\n",
    "fill_na_mean(float_columns)  "
   ]
  },
  {
   "cell_type": "code",
   "execution_count": 12,
   "metadata": {},
   "outputs": [],
   "source": [
    "def convert_to_int(columns):\n",
    "    for col in columns:\n",
    "        df[col] = df[col].astype('int64')\n",
    "int_columns = ['bedrooms', 'bathrooms', 'floors', 'waterfront', 'view', 'yr_built', 'price',\n",
    "               'sqft_living', 'sqft_lot', 'sqft_above', 'sqft_basement']\n",
    "convert_to_int(int_columns)"
   ]
  },
  {
   "cell_type": "code",
   "execution_count": 13,
   "metadata": {},
   "outputs": [],
   "source": [
    "df = df.drop(columns=['street', 'country'], axis=1)"
   ]
  },
  {
   "cell_type": "code",
   "execution_count": 14,
   "metadata": {},
   "outputs": [],
   "source": [
    "def encode_columns(columns):\n",
    "    le = LabelEncoder()\n",
    "    for col in columns:\n",
    "        df[col] = le.fit_transform(df[col])\n",
    "\n",
    "encode_columns(['city', 'statezip'])"
   ]
  },
  {
   "cell_type": "code",
   "execution_count": 15,
   "metadata": {},
   "outputs": [],
   "source": [
    "X = df.drop('price', axis=1) \n",
    "y = df['price'] "
   ]
  },
  {
   "cell_type": "code",
   "execution_count": 16,
   "metadata": {},
   "outputs": [],
   "source": [
    "X_train, X_test, y_train, y_test = train_test_split(X, y, test_size=0.2, shuffle=False)"
   ]
  },
  {
   "cell_type": "code",
   "execution_count": null,
   "metadata": {},
   "outputs": [
    {
     "name": "stdout",
     "output_type": "stream",
     "text": [
      "<class 'pandas.core.frame.DataFrame'>\n",
      "RangeIndex: 4600 entries, 0 to 4599\n",
      "Data columns (total 16 columns):\n",
      " #   Column         Non-Null Count  Dtype \n",
      "---  ------         --------------  ----- \n",
      " 0   date           4600 non-null   object\n",
      " 1   price          4600 non-null   int64 \n",
      " 2   bedrooms       4600 non-null   int64 \n",
      " 3   bathrooms      4600 non-null   int64 \n",
      " 4   sqft_living    4600 non-null   int64 \n",
      " 5   sqft_lot       4600 non-null   int64 \n",
      " 6   floors         4600 non-null   int64 \n",
      " 7   waterfront     4600 non-null   int64 \n",
      " 8   view           4600 non-null   int64 \n",
      " 9   condition      4600 non-null   int64 \n",
      " 10  sqft_above     4600 non-null   int64 \n",
      " 11  sqft_basement  4600 non-null   int64 \n",
      " 12  yr_built       4600 non-null   int64 \n",
      " 13  yr_renovated   4600 non-null   int64 \n",
      " 14  city           4600 non-null   int64 \n",
      " 15  statezip       4600 non-null   int64 \n",
      "dtypes: int64(15), object(1)\n",
      "memory usage: 575.1+ KB\n"
     ]
    }
   ],
   "source": [
    "def dataEncoder(cols):\n",
    "    for i in cols:\n",
    "        dataLabelEncoder = LabelEncoder()\n",
    "        df[i] = dataLabelEncoder.fit_transform(df[i])\n",
    "\n",
    "columns = ['city','statezip']\n",
    "dataEncoder(columns)\n",
    "df.to_csv(r'encoded-data.csv', index = False, header = True)"
   ]
  },
  {
   "cell_type": "code",
   "execution_count": 23,
   "metadata": {},
   "outputs": [
    {
     "data": {
      "text/plain": [
       "(920, 16)"
      ]
     },
     "execution_count": 23,
     "metadata": {},
     "output_type": "execute_result"
    }
   ],
   "source": [
    "trainData, testData = train_test_split(df, test_size=0.2, shuffle=False)\n",
    "trainData.shape\n",
    "testData.shape"
   ]
  },
  {
   "cell_type": "code",
   "execution_count": 25,
   "metadata": {},
   "outputs": [],
   "source": [
    "train_x = trainData.iloc()[:, 2:]\n",
    "test_x  = testData.iloc()[:, 2:]"
   ]
  },
  {
   "cell_type": "code",
   "execution_count": 26,
   "metadata": {},
   "outputs": [],
   "source": [
    "train_y = trainData.iloc()[:, 2]\n",
    "test_y  = testData.iloc()[:, 2]"
   ]
  },
  {
   "cell_type": "code",
   "execution_count": 27,
   "metadata": {},
   "outputs": [
    {
     "data": {
      "text/plain": [
       "3680    4\n",
       "3681    3\n",
       "Name: bedrooms, dtype: int64"
      ]
     },
     "execution_count": 27,
     "metadata": {},
     "output_type": "execute_result"
    }
   ],
   "source": [
    "train_x.head(2)\n",
    "train_y.head(2)\n",
    "test_x.head(2)\n",
    "test_y.head(2)"
   ]
  },
  {
   "cell_type": "code",
   "execution_count": 28,
   "metadata": {},
   "outputs": [
    {
     "name": "stdout",
     "output_type": "stream",
     "text": [
      "SVC()\n"
     ]
    }
   ],
   "source": [
    "model_svc = SVC()\n",
    "model_svc.fit(train_x, train_y)\n",
    "\n",
    "print(model_svc)"
   ]
  },
  {
   "cell_type": "code",
   "execution_count": 30,
   "metadata": {},
   "outputs": [],
   "source": [
    "pickle.dump(model_svc, open('model_svc.pkl', 'wb'))\n",
    "model_svc = pickle.load(open('model_svc.pkl', 'rb'))\n",
    "model_predictions = model_svc.predict(test_x)\n",
    "model_accuracy_score = accuracy_score(test_y, model_predictions)"
   ]
  },
  {
   "cell_type": "code",
   "execution_count": 32,
   "metadata": {},
   "outputs": [
    {
     "name": "stdout",
     "output_type": "stream",
     "text": [
      "0.489\n"
     ]
    }
   ],
   "source": [
    "print(round(model_accuracy_score,3))\n",
    "testdata_predict = testData.copy(deep=True)\n",
    "pd.options.mode.chained_assignment = None"
   ]
  },
  {
   "cell_type": "code",
   "execution_count": 33,
   "metadata": {},
   "outputs": [],
   "source": [
    "testdata_predict['Prediction'] = model_predictions\n",
    "model_accuracy_score = accuracy_score(testdata_predict['price'], testdata_predict['Prediction'])"
   ]
  },
  {
   "cell_type": "code",
   "execution_count": 34,
   "metadata": {},
   "outputs": [
    {
     "name": "stdout",
     "output_type": "stream",
     "text": [
      "-- Model Accuracy Score: 0.0\n"
     ]
    }
   ],
   "source": [
    "print(\"-- Model Accuracy Score: \", end='')\n",
    "print(round(model_accuracy_score,3))"
   ]
  },
  {
   "cell_type": "code",
   "execution_count": null,
   "metadata": {},
   "outputs": [],
   "source": []
  }
 ],
 "metadata": {
  "kernelspec": {
   "display_name": "Python 3",
   "language": "python",
   "name": "python3"
  },
  "language_info": {
   "codemirror_mode": {
    "name": "ipython",
    "version": 3
   },
   "file_extension": ".py",
   "mimetype": "text/x-python",
   "name": "python",
   "nbconvert_exporter": "python",
   "pygments_lexer": "ipython3",
   "version": "3.12.1"
  }
 },
 "nbformat": 4,
 "nbformat_minor": 2
}
